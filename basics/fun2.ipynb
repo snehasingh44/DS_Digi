{
 "cells": [
  {
   "cell_type": "code",
   "execution_count": 1,
   "metadata": {},
   "outputs": [
    {
     "data": {
      "text/plain": [
       "1577"
      ]
     },
     "execution_count": 1,
     "metadata": {},
     "output_type": "execute_result"
    }
   ],
   "source": [
    "def add(a, b, c, d, e, f, g, h, i , j):\n",
    "    return(a+b+c+e+f+g+h+i+j)\n",
    "add(2, 5,45, 76, 87,90, 7, 90, 467, 784, )"
   ]
  },
  {
   "cell_type": "code",
   "execution_count": 2,
   "metadata": {},
   "outputs": [],
   "source": [
    "def add_v2(*args):\n",
    "    total=0\n",
    "    for i in args:\n",
    "        total +=i\n",
    "    return total"
   ]
  },
  {
   "cell_type": "code",
   "execution_count": null,
   "metadata": {},
   "outputs": [],
   "source": [
    "def mul_v2(*args):\n",
    "    total=0\n",
    "    for i in args:\n",
    "        total *=i\n",
    "    return total"
   ]
  },
  {
   "cell_type": "code",
   "execution_count": 5,
   "metadata": {},
   "outputs": [
    {
     "data": {
      "text/plain": [
       "239.4"
      ]
     },
     "execution_count": 5,
     "metadata": {},
     "output_type": "execute_result"
    }
   ],
   "source": [
    "# *args\n",
    "def avg(*no):\n",
    "    return sum(no)/len(no)                       #theses values are tuples\n",
    "avg(67, 78 ,78, 929, 45)"
   ]
  },
  {
   "cell_type": "code",
   "execution_count": 8,
   "metadata": {},
   "outputs": [
    {
     "name": "stdout",
     "output_type": "stream",
     "text": [
      "idli       $40\n",
      "dosa       $80\n",
      "uttapam    $100\n"
     ]
    }
   ],
   "source": [
    "# **kwargs(variable keyword arguments) (n number of keywords args)\n",
    "def display_menu(**items): \n",
    "    if len(items)>0:\n",
    "        for i in items:                         #these values are dictionary\n",
    "            print(f\"{i:10} ${items[i]}\")\n",
    "display_menu(idli=40, dosa=80, uttapam=100)"
   ]
  },
  {
   "cell_type": "code",
   "execution_count": 10,
   "metadata": {},
   "outputs": [
    {
     "name": "stdout",
     "output_type": "stream",
     "text": [
      "noodles    $100\n",
      "hakka_Noodles $80\n",
      "dumpling   $60\n"
     ]
    }
   ],
   "source": [
    "display_menu(noodles=100, hakka_Noodles= 80, dumpling= 60)"
   ]
  },
  {
   "attachments": {},
   "cell_type": "markdown",
   "metadata": {},
   "source": [
    "To use emoji in program windows+.\n"
   ]
  },
  {
   "attachments": {},
   "cell_type": "markdown",
   "metadata": {},
   "source": [
    "ANONYMOUS FUNCTION\n",
    "- Lambda expression\n",
    "- map\n",
    "- filter"
   ]
  },
  {
   "cell_type": "code",
   "execution_count": 11,
   "metadata": {},
   "outputs": [
    {
     "name": "stdout",
     "output_type": "stream",
     "text": [
      "297\n",
      "869\n",
      "708\n",
      "-308\n"
     ]
    }
   ],
   "source": [
    "xlist= [21, 45, 62, 76]\n",
    "ylist= [12, 34, 56, 78]\n",
    "def eq(x, y):\n",
    "    return(x+y)*(x-y)\n",
    "for i, j in zip(xlist, ylist):\n",
    "    print(eq(i,j))"
   ]
  },
  {
   "cell_type": "code",
   "execution_count": 14,
   "metadata": {},
   "outputs": [
    {
     "data": {
      "text/plain": [
       "-819.8888888888889"
      ]
     },
     "execution_count": 14,
     "metadata": {},
     "output_type": "execute_result"
    }
   ],
   "source": [
    "f = lambda x : x+10/x-10* x-10\n",
    "f(90)"
   ]
  },
  {
   "cell_type": "code",
   "execution_count": 15,
   "metadata": {},
   "outputs": [
    {
     "data": {
      "text/plain": [
       "[297, 869, 708, -308]"
      ]
     },
     "execution_count": 15,
     "metadata": {},
     "output_type": "execute_result"
    }
   ],
   "source": [
    "list(map(lambda x,y : (x+y) * (x-y) , xlist, ylist))"
   ]
  },
  {
   "cell_type": "code",
   "execution_count": 16,
   "metadata": {},
   "outputs": [
    {
     "name": "stdout",
     "output_type": "stream",
     "text": [
      "Sneha Singh SS\n",
      "Srishti Trivedi ST\n",
      "Anshu Singh AS\n",
      "Adarsh Singh AS\n",
      "Saurabh Pratap Singh SP\n",
      "Ayush Singh AS\n"
     ]
    }
   ],
   "source": [
    "names= [\"Sneha Singh\", \"Srishti Trivedi\", \"Anshu Singh\", \"Adarsh Singh\",  \"Saurabh Pratap Singh\", \"Ayush Singh\"]\n",
    "def get_initials(name):\n",
    "    return names.split()[0][0] + names.split()[1][0]\n",
    "for names in names:\n",
    "    print(names, get_initials(names))"
   ]
  },
  {
   "cell_type": "code",
   "execution_count": 21,
   "metadata": {},
   "outputs": [
    {
     "ename": "IndexError",
     "evalue": "list index out of range",
     "output_type": "error",
     "traceback": [
      "\u001b[1;31m---------------------------------------------------------------------------\u001b[0m",
      "\u001b[1;31mIndexError\u001b[0m                                Traceback (most recent call last)",
      "Cell \u001b[1;32mIn[21], line 1\u001b[0m\n\u001b[1;32m----> 1\u001b[0m \u001b[39mlist\u001b[39;49m(\u001b[39mmap\u001b[39;49m(\u001b[39mlambda\u001b[39;49;00m n : n\u001b[39m.\u001b[39;49msplit()[\u001b[39m0\u001b[39;49m][\u001b[39m0\u001b[39;49m] \u001b[39m+\u001b[39;49m n\u001b[39m.\u001b[39;49msplit()[\u001b[39m1\u001b[39;49m][\u001b[39m0\u001b[39;49m], names))\n",
      "Cell \u001b[1;32mIn[21], line 1\u001b[0m, in \u001b[0;36m<lambda>\u001b[1;34m(n)\u001b[0m\n\u001b[1;32m----> 1\u001b[0m \u001b[39mlist\u001b[39m(\u001b[39mmap\u001b[39m(\u001b[39mlambda\u001b[39;00m n : n\u001b[39m.\u001b[39msplit()[\u001b[39m0\u001b[39m][\u001b[39m0\u001b[39m] \u001b[39m+\u001b[39m n\u001b[39m.\u001b[39;49msplit()[\u001b[39m1\u001b[39;49m][\u001b[39m0\u001b[39m], names))\n",
      "\u001b[1;31mIndexError\u001b[0m: list index out of range"
     ]
    }
   ],
   "source": [
    "list(map(lambda n : n.split()[0][0] + n.split()[1][0], names))"
   ]
  }
 ],
 "metadata": {
  "kernelspec": {
   "display_name": "base",
   "language": "python",
   "name": "python3"
  },
  "language_info": {
   "codemirror_mode": {
    "name": "ipython",
    "version": 3
   },
   "file_extension": ".py",
   "mimetype": "text/x-python",
   "name": "python",
   "nbconvert_exporter": "python",
   "pygments_lexer": "ipython3",
   "version": "3.10.8"
  },
  "orig_nbformat": 4,
  "vscode": {
   "interpreter": {
    "hash": "2341422424d225294764a65f8677a68f63f98d987331d0e17b8b52ffd6a19eb7"
   }
  }
 },
 "nbformat": 4,
 "nbformat_minor": 2
}

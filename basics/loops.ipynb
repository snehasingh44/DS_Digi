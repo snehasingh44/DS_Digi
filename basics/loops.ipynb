{
 "cells": [
  {
   "cell_type": "code",
   "execution_count": null,
   "metadata": {},
   "outputs": [],
   "source": []
  }
 ],
 "metadata": {
  "kernelspec": {
   "display_name": "base",
   "language": "python",
   "name": "python3"
  },
  "language_info": {
   "name": "python",
   "version": "3.10.8"
  },
  "orig_nbformat": 4,
  "vscode": {
   "interpreter": {
    "hash": "2341422424d225294764a65f8677a68f63f98d987331d0e17b8b52ffd6a19eb7"
   }
  }
 },
 "nbformat": 4,
 "nbformat_minor": 2
}

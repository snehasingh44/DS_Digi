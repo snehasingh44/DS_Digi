{
 "cells": [
  {
   "cell_type": "code",
   "execution_count": 1,
   "metadata": {},
   "outputs": [
    {
     "name": "stdout",
     "output_type": "stream",
     "text": [
      "23\n"
     ]
    }
   ],
   "source": [
    "name= \"vijay deenanath chauhan\"\n",
    "print(len(name))"
   ]
  },
  {
   "cell_type": "code",
   "execution_count": 2,
   "metadata": {},
   "outputs": [
    {
     "name": "stdout",
     "output_type": "stream",
     "text": [
      "Sneha S\n",
      " Singh\n"
     ]
    },
    {
     "data": {
      "text/plain": [
       "'SeaSnh'"
      ]
     },
     "execution_count": 2,
     "metadata": {},
     "output_type": "execute_result"
    }
   ],
   "source": [
    "name1=\"Sneha Singh\"\n",
    "fname= name1[:-4]\n",
    "lname= name1[5:]\n",
    "print(fname)\n",
    "print(lname)\n",
    "name1[::2]"
   ]
  },
  {
   "cell_type": "code",
   "execution_count": 3,
   "metadata": {},
   "outputs": [
    {
     "name": "stdout",
     "output_type": "stream",
     "text": [
      "cycloped\n"
     ]
    }
   ],
   "source": [
    "word=\"Encyclopedia\"\n",
    "print(word[2:-2])"
   ]
  },
  {
   "cell_type": "code",
   "execution_count": 1,
   "metadata": {},
   "outputs": [
    {
     "name": "stdout",
     "output_type": "stream",
     "text": [
      "jOURNEY BEFORE dESTINATION\n",
      "journey before destination\n",
      "Journey before destination\n"
     ]
    }
   ],
   "source": [
    "msg=\"Journey before Destination\"\n",
    "print(msg.swapcase())\n",
    "print(msg.casefold())\n",
    "print(msg.capitalize())"
   ]
  },
  {
   "cell_type": "code",
   "execution_count": 2,
   "metadata": {},
   "outputs": [
    {
     "data": {
      "text/plain": [
       "False"
      ]
     },
     "execution_count": 2,
     "metadata": {},
     "output_type": "execute_result"
    }
   ],
   "source": [
    "msg.isalpha()"
   ]
  },
  {
   "cell_type": "code",
   "execution_count": 3,
   "metadata": {},
   "outputs": [
    {
     "data": {
      "text/plain": [
       "True"
      ]
     },
     "execution_count": 3,
     "metadata": {},
     "output_type": "execute_result"
    }
   ],
   "source": [
    "\"Oregano\".isalpha()               #if variable contains spaces it return false"
   ]
  },
  {
   "cell_type": "code",
   "execution_count": 4,
   "metadata": {},
   "outputs": [
    {
     "name": "stdout",
     "output_type": "stream",
     "text": [
      "ARE YOU STUPID?\n"
     ]
    }
   ],
   "source": [
    "fname= input(\"enter your name: \")\n",
    "if fname.isalpha():\n",
    "    print(\"GOOD BOY/GIRL\")\n",
    "else:\n",
    "    print(\"ARE YOU STUPID?\")"
   ]
  },
  {
   "cell_type": "code",
   "execution_count": 7,
   "metadata": {},
   "outputs": [
    {
     "name": "stdout",
     "output_type": "stream",
     "text": [
      "False\n",
      "True\n"
     ]
    }
   ],
   "source": [
    "print(\"123123.12\".isnumeric())\n",
    "print(\"123345\".isnumeric())"
   ]
  },
  {
   "cell_type": "code",
   "execution_count": 8,
   "metadata": {},
   "outputs": [
    {
     "data": {
      "text/plain": [
       "True"
      ]
     },
     "execution_count": 8,
     "metadata": {},
     "output_type": "execute_result"
    }
   ],
   "source": [
    "\"1234566\".isalnum()"
   ]
  },
  {
   "cell_type": "code",
   "execution_count": 10,
   "metadata": {},
   "outputs": [
    {
     "name": "stdout",
     "output_type": "stream",
     "text": [
      "True\n"
     ]
    }
   ],
   "source": [
    "n = \"Ms. Vijaya\"\n",
    "print(n.startswith('M'))"
   ]
  },
  {
   "cell_type": "code",
   "execution_count": 12,
   "metadata": {},
   "outputs": [
    {
     "name": "stdout",
     "output_type": "stream",
     "text": [
      "Hello Sir\n",
      "Hello Ma'am\n",
      "Hello Doctor\n",
      "Hello Doctor\n",
      "Hello Sir\n",
      "Hello Ma'am\n"
     ]
    }
   ],
   "source": [
    "guests= ['Mr. ALex', 'Ms. Verma', 'Dr. Vijay', 'Dr. Rani', 'Mr. Adarsh', 'Mrs. Tiwari']\n",
    "for name in guests:\n",
    "    if name.startswith('Mr.'):\n",
    "        print(\"Hello Sir\")\n",
    "    elif name.startswith('Ms.') or name.startswith(\"Mrs.\"):\n",
    "        print(\"Hello Ma'am\")\n",
    "    elif name.startswith('Dr.'):\n",
    "        print(\"Hello Doctor\")\n",
    "    else:\n",
    "        print(\"You are not invited\")"
   ]
  },
  {
   "cell_type": "code",
   "execution_count": 13,
   "metadata": {},
   "outputs": [
    {
     "name": "stdout",
     "output_type": "stream",
     "text": [
      "['app_one.py', 'area.py', 'basics.ipynb', 'color_fill.py', 'condition.ipynb', 'fun2.ipynb', 'hello.py', 'loops.ipynb', 'nested.py', 'strings.ipynb']\n"
     ]
    }
   ],
   "source": [
    "import os\n",
    "files = os.listdir()\n",
    "print(files)"
   ]
  },
  {
   "cell_type": "code",
   "execution_count": 15,
   "metadata": {},
   "outputs": [
    {
     "name": "stdout",
     "output_type": "stream",
     "text": [
      "app_one.py is Python Script.\n",
      "\n",
      "area.py is Python Script.\n",
      "\n",
      "basics.ipynb is a Jupyter Notebook.\n",
      "\n",
      "color_fill.py is Python Script.\n",
      "\n",
      "condition.ipynb is a Jupyter Notebook.\n",
      "\n",
      "fun2.ipynb is a Jupyter Notebook.\n",
      "\n",
      "hello.py is Python Script.\n",
      "\n",
      "loops.ipynb is a Jupyter Notebook.\n",
      "\n",
      "nested.py is Python Script.\n",
      "\n",
      "strings.ipynb is a Jupyter Notebook.\n",
      "\n"
     ]
    }
   ],
   "source": [
    "for file in files:\n",
    "    if file.endswith(\".py\"):\n",
    "        print(f\"{file} is Python Script.\\n\")\n",
    "    elif file.endswith(\".ipynb\"):\n",
    "        print(f\"{file} is a Jupyter Notebook.\\n\")\n",
    "    elif file.endswith(\".txt\"):\n",
    "        print(f\"{file} is a Text File.\\n\")\n",
    "    elif file.endswith(\".md\"):\n",
    "        print(f\"{file} is a Markdown File.\\n\")\n",
    "    else:\n",
    "        print(f\"{file} is a unknown file.\\n\")"
   ]
  },
  {
   "cell_type": "code",
   "execution_count": 21,
   "metadata": {},
   "outputs": [
    {
     "name": "stdout",
     "output_type": "stream",
     "text": [
      "Journey before Destination\n"
     ]
    },
    {
     "data": {
      "text/plain": [
       "5"
      ]
     },
     "execution_count": 21,
     "metadata": {},
     "output_type": "execute_result"
    }
   ],
   "source": [
    "print(msg)\n",
    "msg.find(\"e\")"
   ]
  },
  {
   "cell_type": "code",
   "execution_count": 24,
   "metadata": {},
   "outputs": [
    {
     "name": "stdout",
     "output_type": "stream",
     "text": [
      "12\n",
      "18\n",
      "-1\n",
      "4\n"
     ]
    }
   ],
   "source": [
    "data=\"Once upin a time, there was a person that lived.  The end.\"\n",
    "print(data.find(\"t\"))\n",
    "print(data.find(\"t\",13))\n",
    "print(data.find(\"z\"))                     #-1 means not found\n",
    "print(data.count(\"a\"))"
   ]
  },
  {
   "cell_type": "code",
   "execution_count": 26,
   "metadata": {},
   "outputs": [
    {
     "name": "stdout",
     "output_type": "stream",
     "text": [
      "['As', 'the', 'day', 'was', 'coming', 'to', 'an', 'end,', 'our', 'hero', 'was', 'ready', 'to', 'go', 'to', 'sleep.', 'The', 'end.']\n"
     ]
    }
   ],
   "source": [
    "data=\"As the day was coming to an end, our hero was ready to go to sleep. The end.\"\n",
    "word= data.split()\n",
    "print(word)"
   ]
  },
  {
   "cell_type": "code",
   "execution_count": 30,
   "metadata": {},
   "outputs": [
    {
     "name": "stdout",
     "output_type": "stream",
     "text": [
      "['As the day was coming to an end', ' our hero was ready to go to sleep. The end.']\n"
     ]
    }
   ],
   "source": [
    "s=data.split(\",\")\n",
    "print(s)"
   ]
  },
  {
   "cell_type": "code",
   "execution_count": 33,
   "metadata": {},
   "outputs": [
    {
     "name": "stdout",
     "output_type": "stream",
     "text": [
      "abra😶‍🌫️ka😶‍🌫️dabra\n"
     ]
    }
   ],
   "source": [
    "x=['abra', 'ka', 'dabra']\n",
    "print(\"😶‍🌫️\".join(x))"
   ]
  },
  {
   "cell_type": "code",
   "execution_count": 38,
   "metadata": {},
   "outputs": [
    {
     "name": "stdout",
     "output_type": "stream",
     "text": [
      "As the day was coming to an end, our hero was ready to go to sleep. The end.\n"
     ]
    },
    {
     "data": {
      "text/plain": [
       "'As the day was coming to an start, our villain was ready to go to sleep. To be continued....'"
      ]
     },
     "execution_count": 38,
     "metadata": {},
     "output_type": "execute_result"
    }
   ],
   "source": [
    "print(data)\n",
    "data.replace('hero','villain').replace(\"end\", \"start\",1).replace(\"The end\", \"To be continued...\")"
   ]
  },
  {
   "cell_type": "code",
   "execution_count": 39,
   "metadata": {},
   "outputs": [
    {
     "name": "stdout",
     "output_type": "stream",
     "text": [
      "               SNEHA\n",
      "20\n",
      "SNEHA\n"
     ]
    }
   ],
   "source": [
    "name=input(\"Enter your name: \")\n",
    "print(name)\n",
    "print(len(name))\n",
    "print(name.strip())"
   ]
  },
  {
   "attachments": {},
   "cell_type": "markdown",
   "metadata": {},
   "source": [
    "WAP to remove all the vowels from a string\n",
    "\n",
    "WAP to remove all the punctuations from a string\n",
    "\n",
    "count all the words in a string\n",
    "len(str.split())\n",
    "\n",
    "count all the vowels in string"
   ]
  },
  {
   "cell_type": "code",
   "execution_count": 44,
   "metadata": {},
   "outputs": [
    {
     "name": "stdout",
     "output_type": "stream",
     "text": [
      "1\n"
     ]
    }
   ],
   "source": [
    "str= input(\"Enter any string: \")\n",
    "x= str.count(\"A\")+ str.count(\"a\")+ str.count(\"E\")+ str.count(\"e\")+ str.count(\"I\")+ str.count(\"i\")+ str.count(\"O\")+ str.count(\"o\")+ str.count(\"U\")+ str.count(\"u\")\n",
    "print(x)"
   ]
  }
 ],
 "metadata": {
  "kernelspec": {
   "display_name": "base",
   "language": "python",
   "name": "python3"
  },
  "language_info": {
   "codemirror_mode": {
    "name": "ipython",
    "version": 3
   },
   "file_extension": ".py",
   "mimetype": "text/x-python",
   "name": "python",
   "nbconvert_exporter": "python",
   "pygments_lexer": "ipython3",
   "version": "3.10.8"
  },
  "orig_nbformat": 4,
  "vscode": {
   "interpreter": {
    "hash": "2341422424d225294764a65f8677a68f63f98d987331d0e17b8b52ffd6a19eb7"
   }
  }
 },
 "nbformat": 4,
 "nbformat_minor": 2
}
